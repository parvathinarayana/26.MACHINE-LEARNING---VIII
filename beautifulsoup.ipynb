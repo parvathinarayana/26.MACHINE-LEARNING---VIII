{
 "cells": [
  {
   "cell_type": "code",
   "execution_count": 6,
   "metadata": {},
   "outputs": [
    {
     "name": "stdout",
     "output_type": "stream",
     "text": [
      "[nltk_data] Downloading package stopwords to\n",
      "[nltk_data]     C:\\Users\\nn\\AppData\\Roaming\\nltk_data...\n",
      "[nltk_data]   Unzipping corpora\\stopwords.zip.\n"
     ]
    }
   ],
   "source": [
    "# Import  required libraries\n",
    "\n",
    "from bs4 import BeautifulSoup\n",
    "import urllib.request\n",
    "import nltk\n",
    "nltk.download('stopwords')\n",
    "from nltk.corpus import stopwords \n",
    "from nltk.tokenize import word_tokenize"
   ]
  },
  {
   "cell_type": "code",
   "execution_count": 7,
   "metadata": {},
   "outputs": [],
   "source": [
    "# Read the html file \n",
    "\n",
    "response = urllib.request.urlopen('http://php.net/')\n",
    "html = response.read()"
   ]
  },
  {
   "cell_type": "code",
   "execution_count": 8,
   "metadata": {},
   "outputs": [],
   "source": [
    "# Pull out the html file and assign it to a variable. \n",
    "soup = BeautifulSoup(html,\"html5lib\")"
   ]
  },
  {
   "cell_type": "code",
   "execution_count": 19,
   "metadata": {},
   "outputs": [
    {
     "data": {
      "text/plain": [
       "3670"
      ]
     },
     "execution_count": 19,
     "metadata": {},
     "output_type": "execute_result"
    }
   ],
   "source": [
    "# Get the text from the file and split them up to words. \n",
    "\n",
    "text = soup.get_text()\n",
    "tokens = [t for t in text.split()] \n",
    "len(tokens)"
   ]
  },
  {
   "cell_type": "code",
   "execution_count": 20,
   "metadata": {},
   "outputs": [
    {
     "data": {
      "text/plain": [
       "2585"
      ]
     },
     "execution_count": 20,
     "metadata": {},
     "output_type": "execute_result"
    }
   ],
   "source": [
    "# Remove stopwords\n",
    "\n",
    "clean_tokens = tokens[:] \n",
    "stop = stopwords.words('english')\n",
    "for token in tokens: \n",
    "    if token in stopwords.words('english'): \n",
    "        clean_tokens.remove(token) \n",
    "\n",
    "len(clean_tokens)"
   ]
  },
  {
   "cell_type": "code",
   "execution_count": 11,
   "metadata": {},
   "outputs": [
    {
     "data": {
      "text/plain": [
       "FreqDist({'PHP': 174, 'The': 75, 'release': 74, 'found': 68, 'For': 43, 'source': 32, 'downloads': 32, 'list': 30, 'also': 27, 'Windows': 25, ...})"
      ]
     },
     "execution_count": 11,
     "metadata": {},
     "output_type": "execute_result"
    }
   ],
   "source": [
    "# Get the frequency of words in the input\n",
    "\n",
    "freq=nltk.FreqDist(clean_tokens)\n",
    "freq"
   ]
  },
  {
   "cell_type": "code",
   "execution_count": 16,
   "metadata": {},
   "outputs": [
    {
     "data": {
      "text/plain": [
       "[('PHP', 174),\n",
       " ('The', 75),\n",
       " ('release', 74),\n",
       " ('found', 68),\n",
       " ('For', 43),\n",
       " ('source', 32),\n",
       " ('downloads', 32),\n",
       " ('list', 30),\n",
       " ('also', 27),\n",
       " ('Windows', 25),\n",
       " ('team', 25),\n",
       " ('please', 25),\n",
       " ('visit', 25),\n",
       " ('binaries', 24),\n",
       " ('bug', 23),\n",
       " ('7.3.0', 23),\n",
       " ('read', 23),\n",
       " ('Released', 22),\n",
       " ('next', 20),\n",
       " ('file', 19),\n",
       " ('files', 19),\n",
       " ('test', 19),\n",
       " ('version', 19),\n",
       " ('A', 18),\n",
       " ('download', 18),\n",
       " ('report', 18),\n",
       " ('system.', 18),\n",
       " ('DO', 18),\n",
       " ('NOT', 18),\n",
       " ('information', 18),\n",
       " ('new', 18),\n",
       " ('features', 18),\n",
       " ('changes,', 18),\n",
       " ('NEWS', 18),\n",
       " ('file,', 18),\n",
       " ('UPGRADING', 18),\n",
       " ('complete', 18),\n",
       " ('upgrading', 18),\n",
       " ('notes.', 18),\n",
       " ('These', 18),\n",
       " ('archive.', 18),\n",
       " ('planned', 18),\n",
       " ('Thank', 18),\n",
       " ('helping', 18),\n",
       " ('us', 18),\n",
       " ('make', 18),\n",
       " ('better.', 18),\n",
       " ('Release', 17),\n",
       " ('sources', 17),\n",
       " ('windows.php.net/qa/.', 17)]"
      ]
     },
     "execution_count": 16,
     "metadata": {},
     "output_type": "execute_result"
    }
   ],
   "source": [
    "# Get the frequency of most common words\n",
    "freq.most_common(50)"
   ]
  },
  {
   "cell_type": "code",
   "execution_count": 18,
   "metadata": {},
   "outputs": [
    {
     "data": {
      "image/png": "[encoded data removed]",
      "text/plain": [
       "<Figure size 432x288 with 1 Axes>"
      ]
     },
     "metadata": {
      "needs_background": "light"
     },
     "output_type": "display_data"
    }
   ],
   "source": [
    "# Plot the frequency \n",
    "freq.plot(50,cumulative=False)"
   ]
  },
  {
   "cell_type": "code",
   "execution_count": null,
   "metadata": {},
   "outputs": [],
   "source": []
  }
 ],
 "metadata": {
  "kernelspec": {
   "display_name": "Python 3",
   "language": "python",
   "name": "python3"
  },
  "language_info": {
   "codemirror_mode": {
    "name": "ipython",
    "version": 3
   },
   "file_extension": ".py",
   "mimetype": "text/x-python",
   "name": "python",
   "nbconvert_exporter": "python",
   "pygments_lexer": "ipython3",
   "version": "3.7.0"
  }
 },
 "nbformat": 4,
 "nbformat_minor": 2
}
